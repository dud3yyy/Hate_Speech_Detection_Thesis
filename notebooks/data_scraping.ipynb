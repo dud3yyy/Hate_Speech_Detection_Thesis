{
 "cells": [
  {
   "cell_type": "code",
   "execution_count": 2,
   "metadata": {},
   "outputs": [],
   "source": [
    "import sys\n",
    "import os\n",
    "\n",
    "sys.path.append(os.path.abspath(\"C:\\\\Users\\\\arbru\\\\OneDrive\\\\Arbi\\\\HSD_Thesis\\\\HSD_Thesis\"))"
   ]
  },
  {
   "cell_type": "code",
   "execution_count": 6,
   "metadata": {},
   "outputs": [],
   "source": [
    "from src.scraping.twitter_scraper import TwitterScraper\n",
    "\n",
    "bearer_token =\"AAAAAAAAAAAAAAAAAAAAAFzXxgEAAAAA9uPpHYGoQteAg2ozeDzUeD1b8KA%3De7hwPzSdtWOf1H8i0Qz5CmgaFdJh467OfQofbZXgOfj1QxHNYV\"\n",
    "output_path = r\"C:/Users/arbru/OneDrive/Arbi/HSD_Thesis/HSD_Thesis/data/raw/x_data.csv\""
   ]
  },
  {
   "cell_type": "markdown",
   "metadata": {},
   "source": [
    "### Neutral queries"
   ]
  },
  {
   "cell_type": "code",
   "execution_count": 3,
   "metadata": {},
   "outputs": [],
   "source": [
    "qu1 = '(\"love\" OR \"amazing\" OR \"grateful\") -is:retweet -is:reply -has:links lang:en'\n",
    "qu2 = '(\"excited\" OR \"hopeful\" OR \"peace\") -is:retweet -is:reply -has:links lang:en'\n",
    "qu3 = '(\"update\" OR \"breaking news\" OR \"announcement\" OR \"summary\") -is:retweet -is:reply -has:links lang:en'\n",
    "qu4 = '(\"anime\" OR \"cute\" OR \"amazing\") -is:retweet -is:reply -has:links lang:en'\n",
    "qu5 = '(\"I dont think\" OR \"flaws\" OR \"disagree\") -is:retweet -is:reply -has:links lang:en'\n",
    "qu6 = '(\"gorgeous\" OR \"fun\") -is:retweet -is:reply -has:links lang:en'\n",
    "\n",
    "list_of_neutral_queries = [qu1,qu2,qu3,qu4,qu5]"
   ]
  },
  {
   "cell_type": "code",
   "execution_count": 4,
   "metadata": {},
   "outputs": [],
   "source": [
    "que1 = '(\"facts about\" OR \"did you know\" OR \"what we know\" OR \"according to\") -is:retweet -is:reply -has:links lang:en'\n",
    "que2 = '(\"public notice\" OR \"press release\" OR \"statement issued by\" OR \"official announcement\") -is:retweet -is:reply -has:links lang:en'\n",
    "que3 = '(\"report\" OR \"update\" OR \"announcement\" OR \"summary\" OR \"details\")  -is:retweet -is:reply -has:links lang:en'"
   ]
  },
  {
   "cell_type": "markdown",
   "metadata": {},
   "source": [
    "### Hate Speech oriented queries"
   ]
  },
  {
   "cell_type": "code",
   "execution_count": 7,
   "metadata": {},
   "outputs": [],
   "source": [
    "q1 = '(\"hate speech\" OR \"offensive language\" OR \"toxic content\") -is:retweet -is:reply -has:links lang:en'\n",
    "q2 = '(\"women kitchen belong\" OR \"women belong in the kitchen\") -is:retweet -is:reply -has:links lang:en'\n",
    "q3 = '\"homophobic\" -is:retweet -is:reply -has:links lang:en'\n",
    "q4 = '(\"feminazis\" OR \"only two genders\" OR \"not a real man\" OR \"she asked for it\" OR \"is a cult\") -is:retweet -is:reply -has:links lang:en'\n",
    "q5 = '\"go back to\" -is:retweet -is:reply -has:links lang:en'\n",
    "q6 = '(\"build the wall\" OR \"no immigrants allowed\") -is:retweet -is:reply -has:links lang:en'\n",
    "q7 = '(\"BanTrans\" OR \"NoHomo\" OR \"transgender\") -is:retweet -is:reply -has:links lang:en'\n",
    "q8 = '(\"burn in hell\" OR \"against gods will\") -is:retweet -is:reply -has:links lang:en'\n",
    "q9 = '(\"stupid\" OR \"idiot\" OR \"trash\") -is:retweet -is:reply -has:links lang:en' # offensive \n"
   ]
  },
  {
   "cell_type": "code",
   "execution_count": null,
   "metadata": {},
   "outputs": [
    {
     "name": "stderr",
     "output_type": "stream",
     "text": [
      "2025-02-23 00:09:33,984 - INFO - Scraping recent tweets based on this query: (\"love\" OR \"amazing\" OR \"grateful\") -is:retweet -is:reply -has:links lang:en...\n",
      "2025-02-23 00:09:34,263 - WARNING - Rate limit exceeded. Sleeping for 598 seconds.\n",
      "2025-02-23 00:22:23,319 - INFO - Mapping the data...\n",
      "2025-02-23 00:22:23,319 - INFO - Building dataframe...\n",
      "2025-02-23 00:22:23,319 - INFO - Data appended to C:/Users/arbru/OneDrive/Arbi/HSD_Thesis/HSD_Thesis/data/raw/x_data.csv\n",
      "2025-02-23 00:22:23,319 - INFO - Successfully saved 10 tweets to C:/Users/arbru/OneDrive/Arbi/HSD_Thesis/HSD_Thesis/data/raw/x_data.csv\n",
      "2025-02-23 00:22:23,319 - INFO - Scraping recent tweets based on this query: (\"excited\" OR \"hopeful\" OR \"peace\") -is:retweet -is:reply -has:links lang:en...\n",
      "2025-02-23 00:22:23,491 - WARNING - Rate limit exceeded. Sleeping for 729 seconds.\n",
      "2025-02-23 00:37:23,417 - INFO - Mapping the data...\n",
      "2025-02-23 00:37:23,418 - INFO - Building dataframe...\n",
      "2025-02-23 00:37:23,418 - INFO - Data appended to C:/Users/arbru/OneDrive/Arbi/HSD_Thesis/HSD_Thesis/data/raw/x_data.csv\n",
      "2025-02-23 00:37:23,418 - INFO - Successfully saved 10 tweets to C:/Users/arbru/OneDrive/Arbi/HSD_Thesis/HSD_Thesis/data/raw/x_data.csv\n",
      "2025-02-23 00:37:23,418 - INFO - Scraping recent tweets based on this query: (\"update\" OR \"breaking news\" OR \"announcement\" OR \"summary\") -is:retweet -is:reply -has:links lang:en...\n",
      "2025-02-23 00:37:23,570 - WARNING - Rate limit exceeded. Sleeping for 729 seconds.\n"
     ]
    }
   ],
   "source": [
    "x_scraper = TwitterScraper(bearer_token, output_path)\n",
    "for query in list_of_neutral_queries:\n",
    "    x_scraper.scrape_data(query=query, count=10)"
   ]
  },
  {
   "cell_type": "code",
   "execution_count": 8,
   "metadata": {},
   "outputs": [
    {
     "name": "stderr",
     "output_type": "stream",
     "text": [
      "2025-02-23 23:53:14,338 - INFO - Scraping recent tweets based on this query: (\"public notice\" OR \"press release\" OR \"statement issued by\" OR \"official announcement\") -is:retweet -is:reply -has:links lang:en\n",
      "2025-02-23 23:53:14,731 - WARNING - Rate limit exceeded. Sleeping for 722 seconds.\n",
      "2025-02-24 00:08:08,987 - INFO - Mapping the data...\n",
      "2025-02-24 00:08:08,987 - INFO - Building dataframe...\n",
      "2025-02-24 00:08:08,990 - INFO - Data appended to C:/Users/arbru/OneDrive/Arbi/HSD_Thesis/HSD_Thesis/data/raw/x_data.csv\n",
      "2025-02-24 00:08:08,991 - INFO - Successfully saved 49 tweets to C:/Users/arbru/OneDrive/Arbi/HSD_Thesis/HSD_Thesis/data/raw/x_data.csv\n"
     ]
    }
   ],
   "source": [
    "x_scraper = TwitterScraper(bearer_token, output_path)\n",
    "x_scraper.scrape_data(query=que2, count=50)"
   ]
  },
  {
   "cell_type": "markdown",
   "metadata": {},
   "source": [
    "# Reddit scraper"
   ]
  },
  {
   "cell_type": "code",
   "execution_count": 3,
   "metadata": {},
   "outputs": [],
   "source": [
    "from src.scraping.reddit_scraper import RedditScraper\n",
    "\n",
    "client_id=\"cMfAv0acYhvjl6TehZLZrQ\"\n",
    "client_secret=\"gn10jHy7yuyvDDDmyKGWSn7yGovz-w\"\n",
    "user_agent=\"hate speech detection by/ Haunting-Jackfruit53\"\n",
    "\n",
    "reddit_out_path = r\"C:/Users/arbru/OneDrive/Arbi/HSD_Thesis/HSD_Thesis/data/raw/reddit_data.csv\""
   ]
  },
  {
   "cell_type": "code",
   "execution_count": 10,
   "metadata": {},
   "outputs": [],
   "source": [
    "subreddits = [\n",
    "    'gender', 'Conspiracy', 'UnpopularOpinion', \n",
    "    'MensRights', 'Feminism', 'AskMen', 'AskWomen', \n",
    "    'PoliticalDiscussion', 'news', 'worldnews', 'memes',\n",
    "    'LGBT', 'BlackPeopleTwitter', 'TwoXChromosomes'\n",
    "]\n"
   ]
  },
  {
   "cell_type": "code",
   "execution_count": 11,
   "metadata": {},
   "outputs": [],
   "source": [
    "queries = [\n",
    "    'men', 'women', 'gender equality', 'toxic masculinity', \n",
    "    'alpha males', 'feminists ruin everything', \n",
    "    'the role of men in society', 'cancel culture', \n",
    "    'challenges men face today', 'positive masculinity','debunking gender stereotypes',\n",
    "    'why cancel culture is bad', 'incels vs chads', 'alpha males','feminists ruin everything',\n",
    "    'gender roles in modern society', 'trans', 'ban trans', 'homophobic', 'gay', 'lesbian'\n",
    "]"
   ]
  },
  {
   "cell_type": "code",
   "execution_count": null,
   "metadata": {},
   "outputs": [],
   "source": [
    "reddit_scraper = RedditScraper(output_path=reddit_out_path, client_id=client_id, client_secret=client_secret, user_agent=user_agent)\n",
    "reddit_scraper.scrape_data(subreddits=subreddits, query=queries, limit=2000)"
   ]
  },
  {
   "cell_type": "code",
   "execution_count": null,
   "metadata": {},
   "outputs": [],
   "source": []
  },
  {
   "cell_type": "code",
   "execution_count": null,
   "metadata": {},
   "outputs": [],
   "source": []
  }
 ],
 "metadata": {
  "kernelspec": {
   "display_name": ".venv",
   "language": "python",
   "name": "python3"
  },
  "language_info": {
   "codemirror_mode": {
    "name": "ipython",
    "version": 3
   },
   "file_extension": ".py",
   "mimetype": "text/x-python",
   "name": "python",
   "nbconvert_exporter": "python",
   "pygments_lexer": "ipython3",
   "version": "3.12.2"
  }
 },
 "nbformat": 4,
 "nbformat_minor": 2
}
