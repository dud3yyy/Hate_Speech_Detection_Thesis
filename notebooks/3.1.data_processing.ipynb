{
 "cells": [
  {
   "cell_type": "code",
   "execution_count": 1,
   "metadata": {},
   "outputs": [],
   "source": [
    "import pandas as pd\n",
    "import matplotlib.pyplot as plt\n",
    "import seaborn as sns\n",
    "\n",
    "\n",
    "sns.set()"
   ]
  },
  {
   "cell_type": "code",
   "execution_count": 2,
   "metadata": {},
   "outputs": [],
   "source": [
    "x_df = pd.read_csv('../data/processed/processed_x_dataset.csv')\n",
    "reddit_df = pd.read_csv('../data/processed/processed_reddit_dataset.csv')"
   ]
  },
  {
   "cell_type": "code",
   "execution_count": 3,
   "metadata": {},
   "outputs": [],
   "source": [
    "x_df['source'] = \"x\""
   ]
  },
  {
   "cell_type": "code",
   "execution_count": 4,
   "metadata": {},
   "outputs": [],
   "source": [
    "del reddit_df['Unnamed: 0']\n",
    "\n",
    "reddit_df['source'] = \"reddit\""
   ]
  },
  {
   "cell_type": "code",
   "execution_count": 5,
   "metadata": {},
   "outputs": [
    {
     "data": {
      "text/plain": [
       "Index(['processed_text', 'label', 'source'], dtype='object')"
      ]
     },
     "execution_count": 5,
     "metadata": {},
     "output_type": "execute_result"
    }
   ],
   "source": [
    "reddit_df.columns"
   ]
  },
  {
   "cell_type": "code",
   "execution_count": 6,
   "metadata": {},
   "outputs": [
    {
     "name": "stdout",
     "output_type": "stream",
     "text": [
      "Length of the x dataset: 1722, length of the reddit dataset: 44517\n",
      "46239\n"
     ]
    }
   ],
   "source": [
    "print(f\"Length of the x dataset: {len(x_df)}, length of the reddit dataset: {len(reddit_df)}\")\n",
    "df = pd.concat([x_df, reddit_df])\n",
    "print(len(df))\n",
    "df = df.iloc[:, [0, 2, 1]]\n"
   ]
  },
  {
   "cell_type": "code",
   "execution_count": 7,
   "metadata": {},
   "outputs": [
    {
     "data": {
      "text/plain": [
       "27206"
      ]
     },
     "execution_count": 7,
     "metadata": {},
     "output_type": "execute_result"
    }
   ],
   "source": [
    "df['processed_text'].duplicated().sum()"
   ]
  },
  {
   "cell_type": "code",
   "execution_count": 8,
   "metadata": {},
   "outputs": [],
   "source": [
    "df.drop_duplicates(subset=['processed_text'], inplace=True)"
   ]
  },
  {
   "cell_type": "code",
   "execution_count": 9,
   "metadata": {},
   "outputs": [
    {
     "data": {
      "text/plain": [
       "19033"
      ]
     },
     "execution_count": 9,
     "metadata": {},
     "output_type": "execute_result"
    }
   ],
   "source": [
    "len(df)"
   ]
  },
  {
   "cell_type": "code",
   "execution_count": 11,
   "metadata": {},
   "outputs": [
    {
     "data": {
      "image/png": "[encoded data removed]",
      "text/plain": [
       "<Figure size 700x500 with 1 Axes>"
      ]
     },
     "metadata": {},
     "output_type": "display_data"
    }
   ],
   "source": [
    "class_count = df['label'].value_counts()\n",
    "plt.figure(figsize=(7,5))\n",
    "bars = class_count.plot(kind='bar', color=['lightgreen','orange'])\n",
    "\n",
    "for bar in bars.patches:\n",
    "    plt.text(bar.get_x() + bar.get_width() / 2, \n",
    "             bar.get_height(), \n",
    "             f\"{bar.get_height():,}\",\n",
    "             ha=\"center\", va=\"bottom\", fontsize=10)\n",
    "    \n",
    "plt.xlabel(\"Class\")\n",
    "plt.ylabel(\"Count\")\n",
    "plt.title(\"Class Distribution for the Combined Dataset (X + Reddit)\")\n",
    "plt.xticks(rotation=0)\n",
    "plt.show()"
   ]
  },
  {
   "cell_type": "markdown",
   "metadata": {},
   "source": [
    "kaggle dataset taken from https://www.kaggle.com/datasets/waalbannyantudre/hate-speech-detection-curated-dataset\n",
    "currently not a part of this repo since it has 138.40 MB which exceeds GitHub's file size limit of 100.00 MB"
   ]
  },
  {
   "cell_type": "code",
   "execution_count": 12,
   "metadata": {},
   "outputs": [
    {
     "data": {
      "text/plain": [
       "label\n",
       "HATE        358561\n",
       "NON_HATE    341506\n",
       "Name: count, dtype: int64"
      ]
     },
     "execution_count": 12,
     "metadata": {},
     "output_type": "execute_result"
    }
   ],
   "source": [
    "k_df = pd.read_csv('../data/processed/processed_kaggle_dataset.csv')\n",
    "k_df['source'] = 'kaggle'\n",
    "k_df['label'] = k_df['label'].map({1:\"HATE\", 0:\"NON_HATE\"})\n",
    "k_df['label'].value_counts()"
   ]
  },
  {
   "cell_type": "code",
   "execution_count": 13,
   "metadata": {},
   "outputs": [
    {
     "data": {
      "text/plain": [
       "label\n",
       "HATE        20000\n",
       "NON_HATE     2000\n",
       "Name: count, dtype: int64"
      ]
     },
     "execution_count": 13,
     "metadata": {},
     "output_type": "execute_result"
    }
   ],
   "source": [
    "hate_speech = k_df[k_df['label'] == 'HATE']\n",
    "not_hate = k_df[k_df['label'] == 'NON_HATE']\n",
    "\n",
    "hate_sample = hate_speech.sample(n=20000, random_state=42)\n",
    "non_hate_sample = not_hate.sample(n=2000, random_state=42)\n",
    "\n",
    "\n",
    "_k_df = pd.concat([hate_sample, non_hate_sample])\n",
    "_k_df['label'].value_counts()"
   ]
  },
  {
   "cell_type": "code",
   "execution_count": 14,
   "metadata": {},
   "outputs": [
    {
     "data": {
      "text/html": [
       "<div>\n",
       "<style scoped>\n",
       "    .dataframe tbody tr th:only-of-type {\n",
       "        vertical-align: middle;\n",
       "    }\n",
       "\n",
       "    .dataframe tbody tr th {\n",
       "        vertical-align: top;\n",
       "    }\n",
       "\n",
       "    .dataframe thead th {\n",
       "        text-align: right;\n",
       "    }\n",
       "</style>\n",
       "<table border=\"1\" class=\"dataframe\">\n",
       "  <thead>\n",
       "    <tr style=\"text-align: right;\">\n",
       "      <th></th>\n",
       "      <th>processed_text</th>\n",
       "      <th>source</th>\n",
       "      <th>label</th>\n",
       "    </tr>\n",
       "  </thead>\n",
       "  <tbody>\n",
       "    <tr>\n",
       "      <th>0</th>\n",
       "      <td>not differentiate easily love white man especi...</td>\n",
       "      <td>kaggle</td>\n",
       "      <td>HATE</td>\n",
       "    </tr>\n",
       "    <tr>\n",
       "      <th>1</th>\n",
       "      <td>hey slut busy little last resort love yer son ...</td>\n",
       "      <td>kaggle</td>\n",
       "      <td>HATE</td>\n",
       "    </tr>\n",
       "    <tr>\n",
       "      <th>2</th>\n",
       "      <td>stop noticing thing</td>\n",
       "      <td>reddit</td>\n",
       "      <td>NON_HATE</td>\n",
       "    </tr>\n",
       "    <tr>\n",
       "      <th>3</th>\n",
       "      <td>people include feel today son bitch trump birt...</td>\n",
       "      <td>kaggle</td>\n",
       "      <td>HATE</td>\n",
       "    </tr>\n",
       "    <tr>\n",
       "      <th>4</th>\n",
       "      <td>not state not apply incognito mode say use sec...</td>\n",
       "      <td>kaggle</td>\n",
       "      <td>HATE</td>\n",
       "    </tr>\n",
       "    <tr>\n",
       "      <th>...</th>\n",
       "      <td>...</td>\n",
       "      <td>...</td>\n",
       "      <td>...</td>\n",
       "    </tr>\n",
       "    <tr>\n",
       "      <th>41028</th>\n",
       "      <td>end goal gain control state legislature call c...</td>\n",
       "      <td>reddit</td>\n",
       "      <td>NON_HATE</td>\n",
       "    </tr>\n",
       "    <tr>\n",
       "      <th>41029</th>\n",
       "      <td>well apparently trans woman vagina</td>\n",
       "      <td>reddit</td>\n",
       "      <td>HATE</td>\n",
       "    </tr>\n",
       "    <tr>\n",
       "      <th>41030</th>\n",
       "      <td>jew non animate</td>\n",
       "      <td>kaggle</td>\n",
       "      <td>HATE</td>\n",
       "    </tr>\n",
       "    <tr>\n",
       "      <th>41031</th>\n",
       "      <td>thou wilt walk david thy father walk integrity...</td>\n",
       "      <td>x</td>\n",
       "      <td>NON_HATE</td>\n",
       "    </tr>\n",
       "    <tr>\n",
       "      <th>41032</th>\n",
       "      <td>picked derogatory connotation since time prima...</td>\n",
       "      <td>reddit</td>\n",
       "      <td>NON_HATE</td>\n",
       "    </tr>\n",
       "  </tbody>\n",
       "</table>\n",
       "<p>41033 rows × 3 columns</p>\n",
       "</div>"
      ],
      "text/plain": [
       "                                          processed_text  source     label\n",
       "0      not differentiate easily love white man especi...  kaggle      HATE\n",
       "1      hey slut busy little last resort love yer son ...  kaggle      HATE\n",
       "2                                    stop noticing thing  reddit  NON_HATE\n",
       "3      people include feel today son bitch trump birt...  kaggle      HATE\n",
       "4      not state not apply incognito mode say use sec...  kaggle      HATE\n",
       "...                                                  ...     ...       ...\n",
       "41028  end goal gain control state legislature call c...  reddit  NON_HATE\n",
       "41029                 well apparently trans woman vagina  reddit      HATE\n",
       "41030                                    jew non animate  kaggle      HATE\n",
       "41031  thou wilt walk david thy father walk integrity...       x  NON_HATE\n",
       "41032  picked derogatory connotation since time prima...  reddit  NON_HATE\n",
       "\n",
       "[41033 rows x 3 columns]"
      ]
     },
     "execution_count": 14,
     "metadata": {},
     "output_type": "execute_result"
    }
   ],
   "source": [
    "df = pd.concat([df, _k_df])\n",
    "df = df.sample(frac=1, random_state=42).reset_index(drop=True)\n",
    "\n",
    "df['label'].value_counts()\n",
    "df\n"
   ]
  },
  {
   "cell_type": "code",
   "execution_count": 15,
   "metadata": {},
   "outputs": [
    {
     "data": {
      "text/html": [
       "<div>\n",
       "<style scoped>\n",
       "    .dataframe tbody tr th:only-of-type {\n",
       "        vertical-align: middle;\n",
       "    }\n",
       "\n",
       "    .dataframe tbody tr th {\n",
       "        vertical-align: top;\n",
       "    }\n",
       "\n",
       "    .dataframe thead th {\n",
       "        text-align: right;\n",
       "    }\n",
       "</style>\n",
       "<table border=\"1\" class=\"dataframe\">\n",
       "  <thead>\n",
       "    <tr style=\"text-align: right;\">\n",
       "      <th></th>\n",
       "      <th>processed_text</th>\n",
       "      <th>source</th>\n",
       "      <th>label</th>\n",
       "    </tr>\n",
       "  </thead>\n",
       "  <tbody>\n",
       "    <tr>\n",
       "      <th>0</th>\n",
       "      <td>not differentiate easily love white man especi...</td>\n",
       "      <td>kaggle</td>\n",
       "      <td>1</td>\n",
       "    </tr>\n",
       "    <tr>\n",
       "      <th>1</th>\n",
       "      <td>hey slut busy little last resort love yer son ...</td>\n",
       "      <td>kaggle</td>\n",
       "      <td>1</td>\n",
       "    </tr>\n",
       "    <tr>\n",
       "      <th>2</th>\n",
       "      <td>stop noticing thing</td>\n",
       "      <td>reddit</td>\n",
       "      <td>0</td>\n",
       "    </tr>\n",
       "    <tr>\n",
       "      <th>3</th>\n",
       "      <td>people include feel today son bitch trump birt...</td>\n",
       "      <td>kaggle</td>\n",
       "      <td>1</td>\n",
       "    </tr>\n",
       "    <tr>\n",
       "      <th>4</th>\n",
       "      <td>not state not apply incognito mode say use sec...</td>\n",
       "      <td>kaggle</td>\n",
       "      <td>1</td>\n",
       "    </tr>\n",
       "    <tr>\n",
       "      <th>...</th>\n",
       "      <td>...</td>\n",
       "      <td>...</td>\n",
       "      <td>...</td>\n",
       "    </tr>\n",
       "    <tr>\n",
       "      <th>41028</th>\n",
       "      <td>end goal gain control state legislature call c...</td>\n",
       "      <td>reddit</td>\n",
       "      <td>0</td>\n",
       "    </tr>\n",
       "    <tr>\n",
       "      <th>41029</th>\n",
       "      <td>well apparently trans woman vagina</td>\n",
       "      <td>reddit</td>\n",
       "      <td>1</td>\n",
       "    </tr>\n",
       "    <tr>\n",
       "      <th>41030</th>\n",
       "      <td>jew non animate</td>\n",
       "      <td>kaggle</td>\n",
       "      <td>1</td>\n",
       "    </tr>\n",
       "    <tr>\n",
       "      <th>41031</th>\n",
       "      <td>thou wilt walk david thy father walk integrity...</td>\n",
       "      <td>x</td>\n",
       "      <td>0</td>\n",
       "    </tr>\n",
       "    <tr>\n",
       "      <th>41032</th>\n",
       "      <td>picked derogatory connotation since time prima...</td>\n",
       "      <td>reddit</td>\n",
       "      <td>0</td>\n",
       "    </tr>\n",
       "  </tbody>\n",
       "</table>\n",
       "<p>41033 rows × 3 columns</p>\n",
       "</div>"
      ],
      "text/plain": [
       "                                          processed_text  source  label\n",
       "0      not differentiate easily love white man especi...  kaggle      1\n",
       "1      hey slut busy little last resort love yer son ...  kaggle      1\n",
       "2                                    stop noticing thing  reddit      0\n",
       "3      people include feel today son bitch trump birt...  kaggle      1\n",
       "4      not state not apply incognito mode say use sec...  kaggle      1\n",
       "...                                                  ...     ...    ...\n",
       "41028  end goal gain control state legislature call c...  reddit      0\n",
       "41029                 well apparently trans woman vagina  reddit      1\n",
       "41030                                    jew non animate  kaggle      1\n",
       "41031  thou wilt walk david thy father walk integrity...       x      0\n",
       "41032  picked derogatory connotation since time prima...  reddit      0\n",
       "\n",
       "[41033 rows x 3 columns]"
      ]
     },
     "execution_count": 15,
     "metadata": {},
     "output_type": "execute_result"
    }
   ],
   "source": [
    "df['label'] = df['label'].map({\"HATE\":1, \"NON_HATE\":0})\n",
    "df"
   ]
  },
  {
   "cell_type": "code",
   "execution_count": 16,
   "metadata": {},
   "outputs": [],
   "source": [
    "df.to_csv('../data/final/final_df.csv', index=False)"
   ]
  },
  {
   "cell_type": "code",
   "execution_count": null,
   "metadata": {},
   "outputs": [],
   "source": []
  }
 ],
 "metadata": {
  "kernelspec": {
   "display_name": "Python 3",
   "language": "python",
   "name": "python3"
  },
  "language_info": {
   "codemirror_mode": {
    "name": "ipython",
    "version": 3
   },
   "file_extension": ".py",
   "mimetype": "text/x-python",
   "name": "python",
   "nbconvert_exporter": "python",
   "pygments_lexer": "ipython3",
   "version": "3.12.2"
  }
 },
 "nbformat": 4,
 "nbformat_minor": 2
}
